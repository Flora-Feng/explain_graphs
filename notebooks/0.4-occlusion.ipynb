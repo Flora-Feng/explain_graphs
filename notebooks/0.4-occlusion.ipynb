{
 "cells": [
  {
   "cell_type": "code",
   "execution_count": 1,
   "metadata": {},
   "outputs": [
    {
     "name": "stderr",
     "output_type": "stream",
     "text": [
      "Using TensorFlow backend.\n"
     ]
    }
   ],
   "source": [
    "%matplotlib inline  \n",
    "\n",
    "import warnings\n",
    "warnings.simplefilter('ignore')\n",
    "\n",
    "import os\n",
    "import json\n",
    "import copy\n",
    "import time\n",
    "import numpy as np\n",
    "import pandas as pd\n",
    "import keras.models\n",
    "import keras.backend as K\n",
    "from keras.models import Model"
   ]
  },
  {
   "cell_type": "code",
   "execution_count": 2,
   "metadata": {},
   "outputs": [],
   "source": [
    "import sys; sys.path.append(\"../\")\n",
    "\n",
    "from config import load_config\n",
    "from utils import (load_data, preprocess, keras_gcn,\n",
    "                  occlude_and_predict)\n",
    "from plot_utils import (draw_chem_activations, plot_image_grid, \n",
    "                        create_figs, create_im_arrs)\n",
    "\n",
    "from methods import (CAM, GradCAM, GradCAMAvg, Gradient, EB, cEB)"
   ]
  },
  {
   "cell_type": "code",
   "execution_count": 3,
   "metadata": {},
   "outputs": [],
   "source": [
    "os.environ['CUDA_VISIBLE_DEVICES'] = \"\"\n",
    "os.environ['HDF5_USE_FILE_LOCKING'] = 'FALSE'"
   ]
  },
  {
   "cell_type": "code",
   "execution_count": 4,
   "metadata": {},
   "outputs": [],
   "source": [
    "##Choose dataset\n",
    "#dataset = \"BBBP\"\n",
    "#dataset = \"BACE\"\n",
    "dataset = \"TOX21\""
   ]
  },
  {
   "cell_type": "code",
   "execution_count": 4,
   "metadata": {},
   "outputs": [],
   "source": [
    "data_dir = \"../data/\"\n",
    "results_dir = \"../results\"\n",
    "out_dir = os.path.join(results_dir, \"occlusions\")"
   ]
  },
  {
   "cell_type": "markdown",
   "metadata": {},
   "source": [
    "# Data"
   ]
  },
  {
   "cell_type": "code",
   "execution_count": 6,
   "metadata": {},
   "outputs": [
    {
     "name": "stderr",
     "output_type": "stream",
     "text": [
      " 58%|█████▊    | 3565/6193 [00:03<00:02, 985.89it/s] parse(), type: AssertionError, ()\n",
      "100%|██████████| 6193/6193 [00:06<00:00, 925.11it/s]\n"
     ]
    }
   ],
   "source": [
    "### Data\n",
    "config = load_config(dataset)\n",
    "data_fp = os.path.join(config['data_dir'], config['data_fn'])\n",
    "raw_data = load_data(data_fp)\n",
    "data = preprocess(raw_data)\n",
    "smiles = raw_data[\"smiles\"]\n",
    "\n",
    "if dataset == \"TOX21\":\n",
    "    dataset_external = dataset + \"-NR-ER\"\n",
    "else:\n",
    "    dataset_external = dataset\n",
    "\n",
    "label_to_class_name = {0 : \"Not {}\".format(dataset_external), \n",
    "                       1 : \"{}\".format(dataset_external)}"
   ]
  },
  {
   "cell_type": "code",
   "execution_count": 7,
   "metadata": {},
   "outputs": [],
   "source": [
    "labels = np.array(data[\"labels_one_hot\"])"
   ]
  },
  {
   "cell_type": "markdown",
   "metadata": {},
   "source": [
    "# Model"
   ]
  },
  {
   "cell_type": "code",
   "execution_count": 8,
   "metadata": {},
   "outputs": [],
   "source": [
    "# Model\n",
    "model_fn = \"gcn_{}.h5\".format(dataset.lower())\n",
    "model_fp = os.path.join(config[\"saved_models_dir\"], model_fn)\n",
    "model = keras_gcn(config)\n",
    "model.load_weights(model_fp)\n",
    "num_classes = data['labels_one_hot'].shape[1]"
   ]
  },
  {
   "cell_type": "markdown",
   "metadata": {},
   "source": [
    "# Select Occlusion Data"
   ]
  },
  {
   "cell_type": "code",
   "execution_count": 9,
   "metadata": {},
   "outputs": [],
   "source": [
    "# # Select 2k examples class balanced.\n",
    "# k = 100\n",
    "# pos_inds = [i for i,x in enumerate(labels) if np.argmax(x) == 1 ]\n",
    "# neg_inds = [i for i,x in enumerate(labels) if np.argmax(x) == 0 ]\n",
    "# occlude_data_inds = np.array(pos_inds[:k] + neg_inds[:k])\n",
    "# occlude_data_inds = np.concatenate([np.random.choice(pos_inds, k), np.random.choice(neg_inds, k)], axis=0)\n",
    "\n",
    "# # All inds\n",
    "occlude_data_inds = np.arange(0, len(labels))\n",
    "\n",
    "# # Random inds\n",
    "#k = 5\n",
    "#occlude_data_inds = np.random.choice(np.arange(0, len(labels)), k)"
   ]
  },
  {
   "cell_type": "code",
   "execution_count": 10,
   "metadata": {},
   "outputs": [],
   "source": [
    "occlude_smiles = [smiles[x] for x in occlude_data_inds]"
   ]
  },
  {
   "cell_type": "code",
   "execution_count": 11,
   "metadata": {},
   "outputs": [],
   "source": [
    "num_to_explain = len(occlude_data_inds)"
   ]
  },
  {
   "cell_type": "code",
   "execution_count": 12,
   "metadata": {},
   "outputs": [],
   "source": [
    "occlude_data = {}\n",
    "for k,v in data.items():\n",
    "    if isinstance(v, np.ndarray):\n",
    "        vv = v[occlude_data_inds]\n",
    "    elif isinstance(v, list):\n",
    "        vv = [v[i] for i in occlude_data_inds]\n",
    "    else:\n",
    "        raise Exception(\"Data Type Not Supported\")\n",
    "    occlude_data[k] = vv"
   ]
  },
  {
   "cell_type": "code",
   "execution_count": 13,
   "metadata": {},
   "outputs": [],
   "source": [
    "#Init explanation methods\n",
    "cam = CAM(model)\n",
    "gcam = GradCAM(model)\n",
    "gcam_avg = GradCAMAvg(model)\n",
    "grad = Gradient(model)\n",
    "eb = EB(model)\n",
    "ceb = cEB(model)\n",
    "\n",
    "\n",
    "methods = [grad, eb, ceb, gcam, gcam_avg]\n",
    "method_names = [\"Gradient\", \"EB\", \"cEB\", \"CAM-GradCAM\", \"GradCAM-avg\"]"
   ]
  },
  {
   "cell_type": "code",
   "execution_count": 14,
   "metadata": {},
   "outputs": [],
   "source": [
    "N = len(occlude_data['norm_adjs'])"
   ]
  },
  {
   "cell_type": "markdown",
   "metadata": {},
   "source": [
    "# Explain / Occlude / Predict"
   ]
  },
  {
   "cell_type": "code",
   "execution_count": 15,
   "metadata": {},
   "outputs": [],
   "source": [
    "occlude_thresholds = [0, 0.01, 0.05, 0.1]\n",
    "#occlude_thresholds = np.linspace(0,1, num=10, endpoint=False)"
   ]
  },
  {
   "cell_type": "code",
   "execution_count": 16,
   "metadata": {},
   "outputs": [],
   "source": [
    "results = []\n",
    "\n",
    "for i in range(N):\n",
    "    A_arr = occlude_data['norm_adjs'][i][np.newaxis, :, :]\n",
    "    X_arr = occlude_data['node_features'][i][np.newaxis, :, :]\n",
    "    Y_arr = occlude_data['labels_one_hot'][i]\n",
    "    smile = occlude_smiles[i]\n",
    "\n",
    "    num_nodes = A_arr.shape[1]\n",
    "    prob = model.predict_on_batch(x=[A_arr, X_arr])\n",
    "    y_hat = prob.argmax()\n",
    "    y = Y_arr.argmax()\n",
    "\n",
    "    results_ = []\n",
    "    for name,method in zip(method_names, methods):\n",
    "        mask = method.getMasks([A_arr, X_arr])\n",
    "        #Normalize\n",
    "        mask = np.array(mask)\n",
    "        mask /= mask.max()\n",
    "        masks_c0, masks_c1 = mask\n",
    "        \n",
    "        \n",
    "        y_hat_occ_c0_l = [occlude_and_predict(X_arr, A_arr, masks_c0, thresh, model) \n",
    "                              for thresh in occlude_thresholds]\n",
    "        y_hat_occ_c1_l = [occlude_and_predict(X_arr, A_arr, masks_c1, thresh, model) \n",
    "                              for thresh in occlude_thresholds]\n",
    "\n",
    "\n",
    "        results_.append({'weights': masks_c0, \n",
    "                         'smile': smile,\n",
    "                         'method': name,\n",
    "                         'class': 0,\n",
    "                         'pred_y': y_hat,\n",
    "                         'pred_y_occ': y_hat_occ_c0_l,\n",
    "                         'gt_y': y\n",
    "                         })\n",
    "        results_.append({'weights': masks_c1, \n",
    "                         'smile': smile,\n",
    "                         'method': name,\n",
    "                         'class': 1,\n",
    "                         'pred_y': y_hat,\n",
    "                         'pred_y_occ': y_hat_occ_c1_l,\n",
    "                         'gt_y': y\n",
    "                        })\n",
    "    results.append(results_)"
   ]
  },
  {
   "cell_type": "markdown",
   "metadata": {},
   "source": [
    "### Occlusion Eval\n",
    "\n",
    "Accuracy vs. occluded accuracy for each method"
   ]
  },
  {
   "cell_type": "code",
   "execution_count": 17,
   "metadata": {},
   "outputs": [],
   "source": [
    "#Collect evaluation results"
   ]
  },
  {
   "cell_type": "code",
   "execution_count": 18,
   "metadata": {},
   "outputs": [],
   "source": [
    "eval_results = []\n",
    "for result in results:\n",
    "    for result_ in result:\n",
    "        method = result_[\"method\"]\n",
    "        method_cls = result_[\"class\"]\n",
    "        gt_y = result_[\"gt_y\"]\n",
    "        pred_y = result_[\"pred_y\"]\n",
    "        pred_y_occ = result_[\"pred_y_occ\"]\n",
    "        for thres,p in zip(occlude_thresholds, pred_y_occ):\n",
    "            eval_results.append({\"method\": method, \"class\": method_cls, \"threshold\": thres,\n",
    "                                 \"accuracy\": int(gt_y == pred_y), \"accuracy_occluded\": int(gt_y == p)})"
   ]
  },
  {
   "cell_type": "code",
   "execution_count": 19,
   "metadata": {},
   "outputs": [],
   "source": [
    "df = pd.DataFrame(eval_results)"
   ]
  },
  {
   "cell_type": "code",
   "execution_count": 20,
   "metadata": {
    "scrolled": false
   },
   "outputs": [],
   "source": [
    "grps = df.groupby([\"method\", \"class\", \"threshold\"]).mean().reset_index()\n",
    "\n",
    "#Define fidelity as unoccluded accuracy minus occluded accuracy\n",
    "grps[\"fidelity\"] = (grps.accuracy - grps.accuracy_occluded)"
   ]
  },
  {
   "cell_type": "code",
   "execution_count": 21,
   "metadata": {},
   "outputs": [],
   "source": [
    "#Save\n",
    "out_fn = \"{0}_cls_occlusion_results.csv\".format(dataset.lower())\n",
    "out_fp = os.path.join(out_dir, out_fn)\n",
    "grps.to_csv(out_fp, index=False)"
   ]
  },
  {
   "cell_type": "markdown",
   "metadata": {},
   "source": [
    "### Inspect results"
   ]
  },
  {
   "cell_type": "code",
   "execution_count": 1,
   "metadata": {},
   "outputs": [],
   "source": [
    "import os; import pandas as pd\n"
   ]
  },
  {
   "cell_type": "code",
   "execution_count": 2,
   "metadata": {},
   "outputs": [],
   "source": [
    "data_dir = \"../data/\"\n",
    "results_dir = \"../results\"\n",
    "out_dir = os.path.join(results_dir, \"occlusions\")"
   ]
  },
  {
   "cell_type": "code",
   "execution_count": 9,
   "metadata": {},
   "outputs": [],
   "source": [
    "#dataset = \"BBBP\"\n",
    "#dataset = \"BACE\"\n",
    "dataset = \"TOX21\"\n",
    "in_fn = \"{0}_cls_occlusion_results.csv\".format(dataset.lower())\n",
    "in_fp = os.path.join(out_dir, in_fn)\n",
    "df = pd.read_csv(in_fp)"
   ]
  },
  {
   "cell_type": "code",
   "execution_count": 10,
   "metadata": {},
   "outputs": [],
   "source": [
    "thres = 0.01 #final"
   ]
  },
  {
   "cell_type": "code",
   "execution_count": 11,
   "metadata": {},
   "outputs": [
    {
     "name": "stdout",
     "output_type": "stream",
     "text": [
      "        method  fidelity\n",
      "0  CAM-GradCAM      0.11\n",
      "1           EB      0.19\n",
      "2  GradCAM-avg      0.17\n",
      "3     Gradient      0.53\n",
      "4          cEB      0.12\n"
     ]
    }
   ],
   "source": [
    "dff = df[df.threshold == thres].groupby(['method']).mean()\n",
    "dff.reset_index(inplace=True)\n",
    "dff.fidelity = dff.fidelity.round(decimals=2)\n",
    "\n",
    "print(dff[[\"method\", \"fidelity\"]])"
   ]
  }
 ],
 "metadata": {
  "kernelspec": {
   "display_name": "Python 3",
   "language": "python",
   "name": "python3"
  },
  "language_info": {
   "codemirror_mode": {
    "name": "ipython",
    "version": 3
   },
   "file_extension": ".py",
   "mimetype": "text/x-python",
   "name": "python",
   "nbconvert_exporter": "python",
   "pygments_lexer": "ipython3",
   "version": "3.6.5"
  }
 },
 "nbformat": 4,
 "nbformat_minor": 2
}
