{
 "cells": [
  {
   "cell_type": "code",
   "execution_count": 1,
   "metadata": {},
   "outputs": [
    {
     "name": "stderr",
     "output_type": "stream",
     "text": [
      "Using TensorFlow backend.\n"
     ]
    }
   ],
   "source": [
    "import os\n",
    "import numpy as np\n",
    "import matplotlib.pyplot as plt\n",
    "\n",
    "import sys; sys.path.append(\"../\")\n",
    "\n",
    "from config import load_config\n",
    "from utils import (load_data, preprocess, run_train, \n",
    "                   partition_train_val_test, print_eval_avg)\n",
    "\n"
   ]
  },
  {
   "cell_type": "code",
   "execution_count": 2,
   "metadata": {},
   "outputs": [],
   "source": [
    "##Choose dataset\n",
    "dataset = \"BBBP\"\n",
    "#dataset = \"BACE\"\n",
    "#dataset = \"TOX21\""
   ]
  },
  {
   "cell_type": "code",
   "execution_count": 3,
   "metadata": {},
   "outputs": [],
   "source": [
    "save_model = False"
   ]
  },
  {
   "cell_type": "code",
   "execution_count": 4,
   "metadata": {},
   "outputs": [],
   "source": [
    "#Number of train/test/eval replicates to perform\n",
    "N = 5"
   ]
  },
  {
   "cell_type": "code",
   "execution_count": 5,
   "metadata": {},
   "outputs": [
    {
     "name": "stderr",
     "output_type": "stream",
     "text": [
      "100%|██████████| 2050/2050 [00:02<00:00, 817.13it/s]\n"
     ]
    }
   ],
   "source": [
    "config = load_config(dataset)\n",
    "data_fp = os.path.join(config['data_dir'], config['data_fn'])\n",
    "raw_data = load_data(data_fp)\n",
    "data = preprocess(raw_data)"
   ]
  },
  {
   "cell_type": "code",
   "execution_count": null,
   "metadata": {},
   "outputs": [],
   "source": [
    "### Train / evaluate\n",
    "eval_results = {}\n",
    "for i in range(N):\n",
    "    print(\"*\"*50)\n",
    "    print(i)\n",
    "    inds = partition_train_val_test(raw_data[\"smiles\"], dataset)\n",
    "    model, eval_metrics = run_train(config, data, inds)\n",
    "    eval_results[i] = eval_metrics\n",
    "    \n",
    "    if save_model:\n",
    "        model_out_fn = \"gcn_{}.h5\".format(dataset.lower())\n",
    "        model_out_fp = os.path.join(config[\"saved_models_dir\"], model_out_fn) \n",
    "\n",
    "        if os.path.exists(model_out_fp):\n",
    "            print(\"Model exists already. Skipping...\")\n",
    "        else:\n",
    "            model.save(model_out_fp, overwrite=False)"
   ]
  },
  {
   "cell_type": "code",
   "execution_count": null,
   "metadata": {},
   "outputs": [],
   "source": [
    "### Evaluate\n",
    "print(dataset + \"\\n\")\n",
    "\n",
    "for metric in [\"roc_auc\", \"avg_precision\"]:\n",
    "    print(metric)\n",
    "    for split in [\"train\", \"val  \", \"test \"]:\n",
    "        res = print_eval_avg(eval_results, split.strip(), metric)\n",
    "        print(split + \" \" + res)\n",
    "    print()"
   ]
  }
 ],
 "metadata": {
  "kernelspec": {
   "display_name": "Python 3",
   "language": "python",
   "name": "python3"
  },
  "language_info": {
   "codemirror_mode": {
    "name": "ipython",
    "version": 3
   },
   "file_extension": ".py",
   "mimetype": "text/x-python",
   "name": "python",
   "nbconvert_exporter": "python",
   "pygments_lexer": "ipython3",
   "version": "3.6.5"
  }
 },
 "nbformat": 4,
 "nbformat_minor": 2
}
